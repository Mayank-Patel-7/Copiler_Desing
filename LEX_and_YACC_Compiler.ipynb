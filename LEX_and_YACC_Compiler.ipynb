{
  "nbformat": 4,
  "nbformat_minor": 0,
  "metadata": {
    "colab": {
      "provenance": [],
      "include_colab_link": true
    },
    "kernelspec": {
      "name": "python3",
      "display_name": "Python 3"
    },
    "language_info": {
      "name": "python"
    }
  },
  "cells": [
    {
      "cell_type": "markdown",
      "metadata": {
        "id": "view-in-github",
        "colab_type": "text"
      },
      "source": [
        "<a href=\"https://colab.research.google.com/github/Mayank-Patel-7/Copiler_Desing/blob/main/LEX_and_YACC_Compiler.ipynb\" target=\"_parent\"><img src=\"https://colab.research.google.com/assets/colab-badge.svg\" alt=\"Open In Colab\"/></a>"
      ]
    },
    {
      "cell_type": "markdown",
      "source": [
        "# LEX and YACC Compiler in Colab\n",
        "\n",
        "Drawbacks:\n",
        "* Regular interrupts (Ctrl+D, Ctrl+C) for shell won't work in Colab while inputting for program.\n",
        "<br>Workaround: Store your inputs in a txt file and pass it to the program."
      ],
      "metadata": {
        "id": "Az09-x9PnHPq"
      }
    },
    {
      "cell_type": "code",
      "source": [
        "#@title Install *prerqeuisites* (run this cell first to work on LEX/YACC)\n",
        "!sudo apt install flex bison"
      ],
      "metadata": {
        "cellView": "form",
        "id": "CM_9N3RogX8y"
      },
      "execution_count": null,
      "outputs": []
    },
    {
      "cell_type": "markdown",
      "source": [
        "## Lex only"
      ],
      "metadata": {
        "id": "0IYbRG4He38g"
      }
    },
    {
      "cell_type": "code",
      "execution_count": 10,
      "metadata": {
        "colab": {
          "base_uri": "https://localhost:8080/"
        },
        "id": "Jyt0i_pTexWf",
        "outputId": "c3a2a8aa-0acd-43d3-aa3f-5b4d0b48bac7"
      },
      "outputs": [
        {
          "output_type": "stream",
          "name": "stdout",
          "text": [
            "Get:1 http://security.ubuntu.com/ubuntu jammy-security InRelease [129 kB]\n",
            "Get:2 https://cloud.r-project.org/bin/linux/ubuntu jammy-cran40/ InRelease [3,632 B]\n",
            "Hit:3 http://archive.ubuntu.com/ubuntu jammy InRelease\n",
            "Get:4 http://archive.ubuntu.com/ubuntu jammy-updates InRelease [128 kB]\n",
            "Get:5 https://developer.download.nvidia.com/compute/cuda/repos/ubuntu2204/x86_64  InRelease [1,581 B]\n",
            "Get:6 https://r2u.stat.illinois.edu/ubuntu jammy InRelease [6,555 B]\n",
            "Hit:7 http://archive.ubuntu.com/ubuntu jammy-backports InRelease\n",
            "Get:8 http://security.ubuntu.com/ubuntu jammy-security/universe amd64 Packages [1,243 kB]\n",
            "Hit:9 https://ppa.launchpadcontent.net/deadsnakes/ppa/ubuntu jammy InRelease\n",
            "Get:10 http://security.ubuntu.com/ubuntu jammy-security/main amd64 Packages [2,788 kB]\n",
            "Hit:11 https://ppa.launchpadcontent.net/graphics-drivers/ppa/ubuntu jammy InRelease\n",
            "Hit:12 https://ppa.launchpadcontent.net/ubuntugis/ppa/ubuntu jammy InRelease\n",
            "Get:13 https://developer.download.nvidia.com/compute/cuda/repos/ubuntu2204/x86_64  Packages [1,384 kB]\n",
            "Get:14 https://r2u.stat.illinois.edu/ubuntu jammy/main amd64 Packages [2,692 kB]\n",
            "Get:15 http://archive.ubuntu.com/ubuntu jammy-updates/main amd64 Packages [3,140 kB]\n",
            "Get:16 https://r2u.stat.illinois.edu/ubuntu jammy/main all Packages [8,832 kB]\n",
            "Get:17 http://archive.ubuntu.com/ubuntu jammy-updates/universe amd64 Packages [1,542 kB]\n",
            "Get:18 http://archive.ubuntu.com/ubuntu jammy-updates/restricted amd64 Packages [4,246 kB]\n",
            "Fetched 26.1 MB in 3s (9,279 kB/s)\n",
            "Reading package lists... Done\n",
            "W: Skipping acquire of configured file 'main/source/Sources' as repository 'https://r2u.stat.illinois.edu/ubuntu jammy InRelease' does not seem to provide it (sources.list entry misspelt?)\n",
            "Reading package lists... Done\n",
            "Building dependency tree... Done\n",
            "Reading state information... Done\n",
            "gcc is already the newest version (4:11.2.0-1ubuntu1).\n",
            "gcc set to manually installed.\n",
            "The following additional packages will be installed:\n",
            "  libfl-dev libfl2\n",
            "Suggested packages:\n",
            "  bison flex-doc\n",
            "The following NEW packages will be installed:\n",
            "  flex libfl-dev libfl2\n",
            "0 upgraded, 3 newly installed, 0 to remove and 36 not upgraded.\n",
            "Need to get 324 kB of archives.\n",
            "After this operation, 1,148 kB of additional disk space will be used.\n",
            "Get:1 http://archive.ubuntu.com/ubuntu jammy/main amd64 flex amd64 2.6.4-8build2 [307 kB]\n",
            "Get:2 http://archive.ubuntu.com/ubuntu jammy/main amd64 libfl2 amd64 2.6.4-8build2 [10.7 kB]\n",
            "Get:3 http://archive.ubuntu.com/ubuntu jammy/main amd64 libfl-dev amd64 2.6.4-8build2 [6,236 B]\n",
            "Fetched 324 kB in 0s (1,629 kB/s)\n",
            "Selecting previously unselected package flex.\n",
            "(Reading database ... 126332 files and directories currently installed.)\n",
            "Preparing to unpack .../flex_2.6.4-8build2_amd64.deb ...\n",
            "Unpacking flex (2.6.4-8build2) ...\n",
            "Selecting previously unselected package libfl2:amd64.\n",
            "Preparing to unpack .../libfl2_2.6.4-8build2_amd64.deb ...\n",
            "Unpacking libfl2:amd64 (2.6.4-8build2) ...\n",
            "Selecting previously unselected package libfl-dev:amd64.\n",
            "Preparing to unpack .../libfl-dev_2.6.4-8build2_amd64.deb ...\n",
            "Unpacking libfl-dev:amd64 (2.6.4-8build2) ...\n",
            "Setting up flex (2.6.4-8build2) ...\n",
            "Setting up libfl2:amd64 (2.6.4-8build2) ...\n",
            "Setting up libfl-dev:amd64 (2.6.4-8build2) ...\n",
            "Processing triggers for man-db (2.10.2-1) ...\n",
            "Processing triggers for libc-bin (2.35-0ubuntu3.8) ...\n",
            "/sbin/ldconfig.real: /usr/local/lib/libtbbbind.so.3 is not a symbolic link\n",
            "\n",
            "/sbin/ldconfig.real: /usr/local/lib/libtbb.so.12 is not a symbolic link\n",
            "\n",
            "/sbin/ldconfig.real: /usr/local/lib/libtcm_debug.so.1 is not a symbolic link\n",
            "\n",
            "/sbin/ldconfig.real: /usr/local/lib/libur_loader.so.0 is not a symbolic link\n",
            "\n",
            "/sbin/ldconfig.real: /usr/local/lib/libtbbbind_2_0.so.3 is not a symbolic link\n",
            "\n",
            "/sbin/ldconfig.real: /usr/local/lib/libtbbmalloc.so.2 is not a symbolic link\n",
            "\n",
            "/sbin/ldconfig.real: /usr/local/lib/libtbbbind_2_5.so.3 is not a symbolic link\n",
            "\n",
            "/sbin/ldconfig.real: /usr/local/lib/libur_adapter_level_zero.so.0 is not a symbolic link\n",
            "\n",
            "/sbin/ldconfig.real: /usr/local/lib/libhwloc.so.15 is not a symbolic link\n",
            "\n",
            "/sbin/ldconfig.real: /usr/local/lib/libtbbmalloc_proxy.so.2 is not a symbolic link\n",
            "\n",
            "/sbin/ldconfig.real: /usr/local/lib/libumf.so.0 is not a symbolic link\n",
            "\n",
            "/sbin/ldconfig.real: /usr/local/lib/libtcm.so.1 is not a symbolic link\n",
            "\n",
            "/sbin/ldconfig.real: /usr/local/lib/libur_adapter_opencl.so.0 is not a symbolic link\n",
            "\n"
          ]
        }
      ],
      "source": [
        "!apt-get update\n",
        "!apt-get install -y flex gcc\n"
      ]
    },
    {
      "cell_type": "markdown",
      "source": [
        "if you want to use at txt as an input"
      ],
      "metadata": {
        "id": "erI5UjQzg3Sy"
      }
    },
    {
      "cell_type": "code",
      "source": [
        "code = r\"\"\"\n",
        "%{\n",
        "#include <stdio.h>\n",
        "%}\n",
        "\n",
        "ID      [a-zA-Z_][a-zA-Z0-9_]*\n",
        "DIGIT   [0-9]+\n",
        "WS      [ \\t\\n]+\n",
        "OPERATOR    [+\\-*/=<>]\n",
        "\n",
        "%%\n",
        "\"if\"|\"else\"|\"while\"    { printf(\"Keyword: %s\\n\", yytext); }\n",
        "{ID}        { printf(\"Identifier: %s\\n\", yytext); }\n",
        "{DIGIT}     { printf(\"Number: %s\\n\", yytext); }\n",
        "{OPERATOR}  { printf(\"Operator: %s\\n\", yytext); }\n",
        "{WS}        { /* skip whitespace */ }\n",
        ".           { printf(\"Unknown: %s\\n\", yytext); }\n",
        "%%\n",
        "\n",
        "int main() {\n",
        "    yylex();\n",
        "    return 0;\n",
        "}\n",
        "\"\"\"\n",
        "\n",
        "with open(\"lexprog.l\", \"w\") as f:\n",
        "    f.write(code)\n"
      ],
      "metadata": {
        "id": "MUUdcBtRgtjf"
      },
      "execution_count": 12,
      "outputs": []
    },
    {
      "cell_type": "code",
      "source": [
        "%%bash\n",
        "flex lexprog.l\n",
        "gcc lex.yy.c -o lexprog -lfl # Add -lfl flag to link with flex library\n"
      ],
      "metadata": {
        "id": "tqpZgNYpe263"
      },
      "execution_count": 15,
      "outputs": []
    },
    {
      "cell_type": "code",
      "source": [
        "%%bash\n",
        "echo \"if x == 10\" | ./lexprog\n",
        "\n"
      ],
      "metadata": {
        "id": "QUpm8_kMOceO",
        "outputId": "6f677756-9a23-4ec7-a93c-9118ebea05c1",
        "colab": {
          "base_uri": "https://localhost:8080/"
        }
      },
      "execution_count": 16,
      "outputs": [
        {
          "output_type": "stream",
          "name": "stdout",
          "text": [
            "Keyword: if\n",
            "Identifier: x\n",
            "Operator: =\n",
            "Operator: =\n",
            "Number: 10\n"
          ]
        }
      ]
    },
    {
      "cell_type": "markdown",
      "source": [
        "## Lex and Yacc combined"
      ],
      "metadata": {
        "id": "9g3qzHuCe9s1"
      }
    }
  ]
}